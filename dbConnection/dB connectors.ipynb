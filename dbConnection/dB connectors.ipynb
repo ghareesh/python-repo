{
 "cells": [
  {
   "cell_type": "code",
   "execution_count": 17,
   "metadata": {},
   "outputs": [],
   "source": [
    "import numpy as np\n",
    "import pandas as pd\n",
    "pd.set_option('display.max_columns', 1000)\n",
    "\n",
    "import datetime\n",
    "from dplython import (DplyFrame, X, diamonds, select, sift, sample_n,\n",
    "    sample_frac, head, arrange, mutate, group_by, summarize, DelayFunction)\n",
    "import re\n",
    "import qgrid\n",
    "import psycopg2\n",
    "from scipy import stats\n",
    "from scipy.stats import iqr\n",
    "from sklearn.metrics import mean_squared_error,confusion_matrix, precision_score, recall_score, auc,roc_curve,accuracy_score\n",
    "from sklearn import ensemble, linear_model, neighbors, svm, tree, neural_network,model_selection, neighbors, naive_bayes, discriminant_analysis, gaussian_process\n",
    "from sklearn.pipeline import make_pipeline\n",
    "from sklearn.linear_model import Ridge\n",
    "from sklearn.preprocessing import PolynomialFeatures\n",
    "from sklearn.preprocessing import LabelEncoder as le #transform string to numerics (fit_transform)\n",
    "from sklearn.model_selection import train_test_split,cross_val_score,GridSearchCV #cross_val 3 by default\n",
    "from sklearn.ensemble import RandomForestClassifier,GradientBoostingClassifier\n",
    "#import xgboost as xgb\n",
    "\n",
    "import math\n",
    "import matplotlib.pyplot as plt\n",
    "import seaborn as sns\n",
    "#import plotly.offline as py\n",
    "#import plotly.graph_objs as go\n",
    "#import plotly.tools as tls\n",
    "#from plotly.offline import download_plotlyjs, init_notebook_mode, plot, iplot\n",
    "#py.init_notebook_mode(connected=True)"
   ]
  },
  {
   "cell_type": "code",
   "execution_count": 2,
   "metadata": {},
   "outputs": [],
   "source": [
    "#!pip install psycopg2-binary"
   ]
  },
  {
   "cell_type": "code",
   "execution_count": 52,
   "metadata": {},
   "outputs": [],
   "source": [
    "import psycopg2"
   ]
  },
  {
   "cell_type": "code",
   "execution_count": 12,
   "metadata": {},
   "outputs": [
    {
     "name": "stdout",
     "output_type": "stream",
     "text": [
      "Requirement already satisfied: pyhdb in /Users/ghareesh/anaconda3/lib/python3.7/site-packages (0.3.4)\n"
     ]
    }
   ],
   "source": [
    "!pip install packagename\n",
    "import packagename"
   ]
  },
  {
   "cell_type": "code",
   "execution_count": 2,
   "metadata": {},
   "outputs": [],
   "source": [
    "import sys\n",
    "import getpass\n",
    "import pyhdb\n",
    "import psycopg2"
   ]
  },
  {
   "cell_type": "code",
   "execution_count": 8,
   "metadata": {},
   "outputs": [
    {
     "name": "stdin",
     "output_type": "stream",
     "text": [
      "Enter username..  ghareesh\n"
     ]
    },
    {
     "name": "stderr",
     "output_type": "stream",
     "text": [
      "/Users/ghareesh/anaconda3/lib/python3.7/site-packages/ipykernel_launcher.py:3: UserWarning: The `stream` parameter of `getpass.getpass` will have no effect when using ipykernel\n",
      "  This is separate from the ipykernel package so we can avoid doing imports until\n"
     ]
    },
    {
     "name": "stdin",
     "output_type": "stream",
     "text": [
      "Enter password..  ··············\n"
     ]
    }
   ],
   "source": [
    "##Connection to HANA database##\n",
    "u = input(\"Enter username.. \")\n",
    "p = getpass.getpass(prompt=\"Enter password.. \",stream=sys.stderr)\n",
    "connection = pyhdb.connect(\n",
    "    host=\"hostname\",\n",
    "    port=30015,\n",
    "    user=u,\n",
    "    password=p\n",
    ")"
   ]
  },
  {
   "cell_type": "code",
   "execution_count": 20,
   "metadata": {},
   "outputs": [
    {
     "data": {
      "text/plain": [
       "<Hana connection host=sbi-prod-d1 port=30015 user=ghareesh>"
      ]
     },
     "execution_count": 20,
     "metadata": {},
     "output_type": "execute_result"
    }
   ],
   "source": [
    "connection"
   ]
  },
  {
   "cell_type": "code",
   "execution_count": 3,
   "metadata": {},
   "outputs": [
    {
     "name": "stdin",
     "output_type": "stream",
     "text": [
      "Enter username..  ghareesh\n"
     ]
    },
    {
     "name": "stderr",
     "output_type": "stream",
     "text": [
      "/Users/ghareesh/anaconda3/lib/python3.7/site-packages/ipykernel_launcher.py:4: UserWarning: The `stream` parameter of `getpass.getpass` will have no effect when using ipykernel\n",
      "  after removing the cwd from sys.path.\n"
     ]
    },
    {
     "name": "stdin",
     "output_type": "stream",
     "text": [
      "Enter password..  ··············\n"
     ]
    }
   ],
   "source": [
    "##Connection to Hadoop HAWQ database/ POSTGRES##\n",
    "\n",
    "u = input(\"Enter username.. \")\n",
    "p = getpass.getpass(prompt=\"Enter password.. \",stream=sys.stderr)\n",
    "connection = psycopg2.connect(host=\"hostname\", \n",
    "                              database=\"dBname\", \n",
    "                              port=5432, user=u, \n",
    "                              password=p)"
   ]
  },
  {
   "cell_type": "code",
   "execution_count": 4,
   "metadata": {},
   "outputs": [
    {
     "data": {
      "text/plain": [
       "<connection object at 0x111052978; dsn: 'user=ghareesh password=xxx dbname=hdw_hawq host=hdop-prd-mst2 port=5432', closed: 0>"
      ]
     },
     "execution_count": 4,
     "metadata": {},
     "output_type": "execute_result"
    }
   ],
   "source": [
    "connection"
   ]
  },
  {
   "cell_type": "code",
   "execution_count": null,
   "metadata": {},
   "outputs": [],
   "source": [
    "##Connection to Oracle database##\n",
    "\n",
    "jdbcConnection_ora <- dbConnect(jdbcDriver_ora, \"name\", \"user\", \"password\")"
   ]
  },
  {
   "cell_type": "code",
   "execution_count": null,
   "metadata": {},
   "outputs": [],
   "source": [
    "## Connection to Salesforce##"
   ]
  },
  {
   "cell_type": "code",
   "execution_count": 11,
   "metadata": {},
   "outputs": [],
   "source": [
    "from simple_salesforce import Salesforce\n",
    "import requests\n",
    "\n",
    "session = requests.Session()\n",
    "# manipulate the session instance (optional)\n",
    "sf = Salesforce(\n",
    "   username='sfdc-login-username', password='sfdc password',security_token='token',\n",
    "   session=session)"
   ]
  },
  {
   "cell_type": "code",
   "execution_count": 12,
   "metadata": {},
   "outputs": [],
   "source": [
    "# query\n",
    "accounts = sf.bulk.Account.query('query in SOQL language')"
   ]
  },
  {
   "cell_type": "code",
   "execution_count": 13,
   "metadata": {},
   "outputs": [
    {
     "data": {
      "text/plain": [
       "[{'attributes': {'type': 'Account',\n",
       "   'url': '/services/data/v42.0/sobjects/Account/0018000001Fm6C9AAJ'},\n",
       "  'Id': '0018000001Fm6C9AAJ',\n",
       "  'Name': 'Sdmlgkmdlkfgmldkg'},\n",
       " {'attributes': {'type': 'Account',\n",
       "   'url': '/services/data/v42.0/sobjects/Account/0013400001Q9Dt3AAF'},\n",
       "  'Id': '0013400001Q9Dt3AAF',\n",
       "  'Name': 'Cci'},\n",
       " {'attributes': {'type': 'Account',\n",
       "   'url': '/services/data/v42.0/sobjects/Account/0018000000UG7VaAAL'},\n",
       "  'Id': '0018000000UG7VaAAL',\n",
       "  'Name': 'New Technology Sweden AB'},\n",
       " {'attributes': {'type': 'Account',\n",
       "   'url': '/services/data/v42.0/sobjects/Account/0013400001KbZ9KAAV'},\n",
       "  'Id': '0013400001KbZ9KAAV',\n",
       "  'Name': 'Government Computer Services Swaziland'},\n",
       " {'attributes': {'type': 'Account',\n",
       "   'url': '/services/data/v42.0/sobjects/Account/0018000000wP6AwAAK'},\n",
       "  'Id': '0018000000wP6AwAAK',\n",
       "  'Name': 'Swaziland Post & Telecommunications Corporation (SPTC)'}]"
      ]
     },
     "execution_count": 13,
     "metadata": {},
     "output_type": "execute_result"
    }
   ],
   "source": [
    "accounts"
   ]
  },
  {
   "cell_type": "code",
   "execution_count": null,
   "metadata": {},
   "outputs": [],
   "source": []
  },
  {
   "cell_type": "code",
   "execution_count": null,
   "metadata": {},
   "outputs": [],
   "source": []
  },
  {
   "cell_type": "code",
   "execution_count": 17,
   "metadata": {},
   "outputs": [],
   "source": [
    "query_base = \"\"\"query to be pasted from dbeaver etc\"\"\""
   ]
  },
  {
   "cell_type": "code",
   "execution_count": 50,
   "metadata": {},
   "outputs": [],
   "source": [
    "cursor = connection.cursor()\n",
    "cursor.execute(query_base)\n",
    "ren_base=pd.DataFrame(cursor.fetchall(),columns=[column[0] for column in cursor.description])"
   ]
  },
  {
   "cell_type": "code",
   "execution_count": null,
   "metadata": {},
   "outputs": [],
   "source": []
  },
  {
   "cell_type": "code",
   "execution_count": 47,
   "metadata": {},
   "outputs": [],
   "source": [
    "ren_base=pd.DataFrame(cursor.fetchall(),columns=[column[0] for column in cursor.description])"
   ]
  },
  {
   "cell_type": "code",
   "execution_count": 48,
   "metadata": {},
   "outputs": [
    {
     "data": {
      "text/html": [
       "<div>\n",
       "<style scoped>\n",
       "    .dataframe tbody tr th:only-of-type {\n",
       "        vertical-align: middle;\n",
       "    }\n",
       "\n",
       "    .dataframe tbody tr th {\n",
       "        vertical-align: top;\n",
       "    }\n",
       "\n",
       "    .dataframe thead th {\n",
       "        text-align: right;\n",
       "    }\n",
       "</style>\n",
       "<table border=\"1\" class=\"dataframe\">\n",
       "  <thead>\n",
       "    <tr style=\"text-align: right;\">\n",
       "      <th></th>\n",
       "      <th>OPTY_ID</th>\n",
       "      <th>OPPORTUNITY_ID</th>\n",
       "      <th>OPPORTUNITY_EXTENSION_NAME</th>\n",
       "      <th>PARENT_OPPORTUNITY_ID</th>\n",
       "      <th>OPTY_EA_NUMBER</th>\n",
       "      <th>SALES_STAGE_NAME</th>\n",
       "      <th>OWNER_NAME</th>\n",
       "      <th>CREATE_DATE</th>\n",
       "      <th>CLOSE_DATE</th>\n",
       "      <th>SALES_METHOD_NAME</th>\n",
       "      <th>OPTY_SUBBATCH_TYPE</th>\n",
       "      <th>REASON_CODE</th>\n",
       "      <th>REN_DEAL_RANGE_DESC</th>\n",
       "      <th>REVENUE_AMOUNT</th>\n",
       "      <th>SOURCE</th>\n",
       "      <th>OPPORTUNITY_SOURCE</th>\n",
       "      <th>SERVICE_CONTRACT_NUMBER</th>\n",
       "      <th>EXPIRING_CONTRACT_NUMBER</th>\n",
       "      <th>EXPIRING_CONTRACT_ID</th>\n",
       "      <th>ACCOUNTID</th>\n",
       "      <th>ACCOUNTNAME</th>\n",
       "      <th>ACCOUNT_TYPE</th>\n",
       "      <th>TAM_ACCOUNT_FLAG</th>\n",
       "      <th>GEO</th>\n",
       "      <th>REGION</th>\n",
       "      <th>FIELD_SALES_CUSTOMER_SEGMENT</th>\n",
       "      <th>GLOBAL_OVERLAY_TERRITORY</th>\n",
       "      <th>LOB_FROM</th>\n",
       "      <th>LOB_TO</th>\n",
       "      <th>RENEWAL_SALES_TERRITORY</th>\n",
       "      <th>END_USER_CONTACT_PHONE</th>\n",
       "      <th>END_USER_CONTACT_EMAIL</th>\n",
       "      <th>ACCOUNT_CONTACT_FLAG</th>\n",
       "      <th>INCUMBENT_DISTRIBUTOR_PARTY_NUMBER</th>\n",
       "      <th>INCUMBENT_RESELLER_PARTY_NUMBER</th>\n",
       "      <th>EXP_CONTRACT_SERVICE_LVL</th>\n",
       "      <th>REN_CONTRACT_SERVICE_LVL</th>\n",
       "      <th>REN_CONTRACT_DURATION</th>\n",
       "      <th>EXP_CONTRACT_DURATION</th>\n",
       "      <th>RENEWAL_START_DATE</th>\n",
       "      <th>RENEWAL_END_DATE</th>\n",
       "      <th>EXPIRING_CONTRACT_START_DATE</th>\n",
       "      <th>RS2_EXPIRING_CONTRACT_END_DATE</th>\n",
       "      <th>OPPORTUNITY_EXTENSION_ID</th>\n",
       "      <th>ACCOUNT_INDUSTRY</th>\n",
       "      <th>DNB_VMWARE_INDUSTRY</th>\n",
       "      <th>HIST_LOST_COUNT</th>\n",
       "      <th>HIST_WON_COUNT</th>\n",
       "      <th>HIST_CLOSED_COUNT</th>\n",
       "      <th>HIST_TOT_COUNT</th>\n",
       "      <th>CONSIDER_HIST_PERF_FLG</th>\n",
       "      <th>FIS_MONTH</th>\n",
       "      <th>FIS_QUARTER</th>\n",
       "      <th>FIS_YEAR2QTRNAME</th>\n",
       "      <th>CAL_DATE</th>\n",
       "    </tr>\n",
       "  </thead>\n",
       "  <tbody>\n",
       "  </tbody>\n",
       "</table>\n",
       "</div>"
      ],
      "text/plain": [
       "Empty DataFrame\n",
       "Columns: [OPTY_ID, OPPORTUNITY_ID, OPPORTUNITY_EXTENSION_NAME, PARENT_OPPORTUNITY_ID, OPTY_EA_NUMBER, SALES_STAGE_NAME, OWNER_NAME, CREATE_DATE, CLOSE_DATE, SALES_METHOD_NAME, OPTY_SUBBATCH_TYPE, REASON_CODE, REN_DEAL_RANGE_DESC, REVENUE_AMOUNT, SOURCE, OPPORTUNITY_SOURCE, SERVICE_CONTRACT_NUMBER, EXPIRING_CONTRACT_NUMBER, EXPIRING_CONTRACT_ID, ACCOUNTID, ACCOUNTNAME, ACCOUNT_TYPE, TAM_ACCOUNT_FLAG, GEO, REGION, FIELD_SALES_CUSTOMER_SEGMENT, GLOBAL_OVERLAY_TERRITORY, LOB_FROM, LOB_TO, RENEWAL_SALES_TERRITORY, END_USER_CONTACT_PHONE, END_USER_CONTACT_EMAIL, ACCOUNT_CONTACT_FLAG, INCUMBENT_DISTRIBUTOR_PARTY_NUMBER, INCUMBENT_RESELLER_PARTY_NUMBER, EXP_CONTRACT_SERVICE_LVL, REN_CONTRACT_SERVICE_LVL, REN_CONTRACT_DURATION, EXP_CONTRACT_DURATION, RENEWAL_START_DATE, RENEWAL_END_DATE, EXPIRING_CONTRACT_START_DATE, RS2_EXPIRING_CONTRACT_END_DATE, OPPORTUNITY_EXTENSION_ID, ACCOUNT_INDUSTRY, DNB_VMWARE_INDUSTRY, HIST_LOST_COUNT, HIST_WON_COUNT, HIST_CLOSED_COUNT, HIST_TOT_COUNT, CONSIDER_HIST_PERF_FLG, FIS_MONTH, FIS_QUARTER, FIS_YEAR2QTRNAME, CAL_DATE]\n",
       "Index: []"
      ]
     },
     "execution_count": 48,
     "metadata": {},
     "output_type": "execute_result"
    }
   ],
   "source": [
    "ren_base"
   ]
  },
  {
   "cell_type": "code",
   "execution_count": 5,
   "metadata": {},
   "outputs": [],
   "source": [
    "query_discount = \"\"\"query to be pasted from dbeaver etc\"\"\""
   ]
  },
  {
   "cell_type": "code",
   "execution_count": 9,
   "metadata": {},
   "outputs": [],
   "source": [
    "cursor = connection.cursor()\n",
    "cursor.execute(query_discount)\n",
    "discount_prc=pd.DataFrame(cursor.fetchall(),columns=[column[0] for column in cursor.description])"
   ]
  },
  {
   "cell_type": "code",
   "execution_count": 6,
   "metadata": {},
   "outputs": [
    {
     "data": {
      "text/plain": [
       "str"
      ]
     },
     "execution_count": 6,
     "metadata": {},
     "output_type": "execute_result"
    }
   ],
   "source": [
    "type(query_discount)"
   ]
  },
  {
   "cell_type": "code",
   "execution_count": 10,
   "metadata": {},
   "outputs": [
    {
     "data": {
      "text/html": [
       "<div>\n",
       "<style scoped>\n",
       "    .dataframe tbody tr th:only-of-type {\n",
       "        vertical-align: middle;\n",
       "    }\n",
       "\n",
       "    .dataframe tbody tr th {\n",
       "        vertical-align: top;\n",
       "    }\n",
       "\n",
       "    .dataframe thead th {\n",
       "        text-align: right;\n",
       "    }\n",
       "</style>\n",
       "<table border=\"1\" class=\"dataframe\">\n",
       "  <thead>\n",
       "    <tr style=\"text-align: right;\">\n",
       "      <th></th>\n",
       "      <th>trx_number</th>\n",
       "      <th>order_date</th>\n",
       "      <th>channel</th>\n",
       "      <th>bundle_flag</th>\n",
       "      <th>core_component_sku</th>\n",
       "      <th>bundle_sku</th>\n",
       "      <th>product_sku</th>\n",
       "      <th>quantity</th>\n",
       "      <th>license_count</th>\n",
       "      <th>prod_tech_qty</th>\n",
       "      <th>detail_total_cc</th>\n",
       "      <th>prod_tech_net_price_cc</th>\n",
       "      <th>prod_tech_base_cc</th>\n",
       "      <th>prod_tech_extended_base_cc</th>\n",
       "      <th>prod_tech_extended_list_price_cc</th>\n",
       "      <th>prod_tech_uplift_cc</th>\n",
       "      <th>prod_tech_contra_cc</th>\n",
       "      <th>prod_tech_discount_cc</th>\n",
       "      <th>discount_pc</th>\n",
       "    </tr>\n",
       "  </thead>\n",
       "  <tbody>\n",
       "    <tr>\n",
       "      <th>0</th>\n",
       "      <td>35277450</td>\n",
       "      <td>2019-01-14</td>\n",
       "      <td>SUPPORT</td>\n",
       "      <td>N</td>\n",
       "      <td>VS6-EPL-VS-P-SSS-C</td>\n",
       "      <td>None</td>\n",
       "      <td>VS6-EPL-VS-P-SSS-C</td>\n",
       "      <td>16</td>\n",
       "      <td>16</td>\n",
       "      <td>16</td>\n",
       "      <td>6633.864</td>\n",
       "      <td>6633.864</td>\n",
       "      <td>463.507</td>\n",
       "      <td>7416.112</td>\n",
       "      <td>7416.112</td>\n",
       "      <td>0.000</td>\n",
       "      <td>-33.336</td>\n",
       "      <td>-748.912</td>\n",
       "      <td>10.09844511517625408000</td>\n",
       "    </tr>\n",
       "    <tr>\n",
       "      <th>1</th>\n",
       "      <td>451294848</td>\n",
       "      <td>2017-04-24</td>\n",
       "      <td>SUPPORT</td>\n",
       "      <td>N</td>\n",
       "      <td>VS6-EPL-P-SSS-A</td>\n",
       "      <td>None</td>\n",
       "      <td>VS6-EPL-P-SSS-A</td>\n",
       "      <td>2</td>\n",
       "      <td>2</td>\n",
       "      <td>2</td>\n",
       "      <td>1972.443</td>\n",
       "      <td>1972.444</td>\n",
       "      <td>706.893</td>\n",
       "      <td>1943.348</td>\n",
       "      <td>2173.558</td>\n",
       "      <td>230.210</td>\n",
       "      <td>-9.912</td>\n",
       "      <td>-191.203</td>\n",
       "      <td>8.79677468924224704400</td>\n",
       "    </tr>\n",
       "    <tr>\n",
       "      <th>2</th>\n",
       "      <td>310416490</td>\n",
       "      <td>2017-09-01</td>\n",
       "      <td>SUPPORT</td>\n",
       "      <td>N</td>\n",
       "      <td>VS6-STD-G-SSS-C</td>\n",
       "      <td>None</td>\n",
       "      <td>VS6-STD-G-SSS-C</td>\n",
       "      <td>12</td>\n",
       "      <td>12</td>\n",
       "      <td>12</td>\n",
       "      <td>2933.658</td>\n",
       "      <td>2933.658</td>\n",
       "      <td>273.299</td>\n",
       "      <td>3279.588</td>\n",
       "      <td>3279.588</td>\n",
       "      <td>0.000</td>\n",
       "      <td>-14.742</td>\n",
       "      <td>-331.188</td>\n",
       "      <td>10.09846358749940541300</td>\n",
       "    </tr>\n",
       "    <tr>\n",
       "      <th>3</th>\n",
       "      <td>41570647</td>\n",
       "      <td>2018-09-06</td>\n",
       "      <td>SUPPORT</td>\n",
       "      <td>N</td>\n",
       "      <td>VCS6-FND-P-SSS-C</td>\n",
       "      <td>None</td>\n",
       "      <td>VCS6-FND-P-SSS-C</td>\n",
       "      <td>1</td>\n",
       "      <td>1</td>\n",
       "      <td>1</td>\n",
       "      <td>672.153</td>\n",
       "      <td>672.154</td>\n",
       "      <td>6.237</td>\n",
       "      <td>707.946</td>\n",
       "      <td>751.420</td>\n",
       "      <td>43.474</td>\n",
       "      <td>-3.378</td>\n",
       "      <td>-75.889</td>\n",
       "      <td>10.09941178036251364100</td>\n",
       "    </tr>\n",
       "    <tr>\n",
       "      <th>4</th>\n",
       "      <td>325300981</td>\n",
       "      <td>2017-08-21</td>\n",
       "      <td>SUPPORT</td>\n",
       "      <td>N</td>\n",
       "      <td>VS6-STD-P-SSS-C</td>\n",
       "      <td>None</td>\n",
       "      <td>VS6-STD-P-SSS-C</td>\n",
       "      <td>14</td>\n",
       "      <td>14</td>\n",
       "      <td>14</td>\n",
       "      <td>3550.204</td>\n",
       "      <td>3550.204</td>\n",
       "      <td>296.408</td>\n",
       "      <td>4149.712</td>\n",
       "      <td>4149.712</td>\n",
       "      <td>0.000</td>\n",
       "      <td>-17.84</td>\n",
       "      <td>-581.668</td>\n",
       "      <td>14.01706913636416213900</td>\n",
       "    </tr>\n",
       "    <tr>\n",
       "      <th>5</th>\n",
       "      <td>41629437</td>\n",
       "      <td>2019-01-15</td>\n",
       "      <td>SUPPORT</td>\n",
       "      <td>N</td>\n",
       "      <td>VCS6-STD-P-SSS-C</td>\n",
       "      <td>None</td>\n",
       "      <td>VCS6-STD-P-SSS-C</td>\n",
       "      <td>1</td>\n",
       "      <td>1</td>\n",
       "      <td>1</td>\n",
       "      <td>4619.062</td>\n",
       "      <td>4619.062</td>\n",
       "      <td>6300.305</td>\n",
       "      <td>5294.374</td>\n",
       "      <td>5949.381</td>\n",
       "      <td>655.007</td>\n",
       "      <td>-23.212</td>\n",
       "      <td>-1307.107</td>\n",
       "      <td>21.97047054138909577300</td>\n",
       "    </tr>\n",
       "    <tr>\n",
       "      <th>6</th>\n",
       "      <td>484846892</td>\n",
       "      <td>2019-12-04</td>\n",
       "      <td>SUPPORT</td>\n",
       "      <td>N</td>\n",
       "      <td>VS6-ESSL-SUB-C</td>\n",
       "      <td>None</td>\n",
       "      <td>VS6-ESSL-SUB-C</td>\n",
       "      <td>8</td>\n",
       "      <td>8</td>\n",
       "      <td>8</td>\n",
       "      <td>103.870</td>\n",
       "      <td>103.87</td>\n",
       "      <td>117.308</td>\n",
       "      <td>938.464</td>\n",
       "      <td>938.464</td>\n",
       "      <td>0.000</td>\n",
       "      <td>-0.522</td>\n",
       "      <td>-834.072</td>\n",
       "      <td>88.87629147202236846600</td>\n",
       "    </tr>\n",
       "    <tr>\n",
       "      <th>7</th>\n",
       "      <td>30154424</td>\n",
       "      <td>2019-07-30</td>\n",
       "      <td>SUPPORT</td>\n",
       "      <td>N</td>\n",
       "      <td>VCS6-STD-G-SSS-C</td>\n",
       "      <td>None</td>\n",
       "      <td>VCS6-STD-G-SSS-C</td>\n",
       "      <td>1</td>\n",
       "      <td>1</td>\n",
       "      <td>1</td>\n",
       "      <td>1493.800</td>\n",
       "      <td>1493.8</td>\n",
       "      <td>1731.228</td>\n",
       "      <td>1731.228</td>\n",
       "      <td>1731.228</td>\n",
       "      <td>0.000</td>\n",
       "      <td>-7.507</td>\n",
       "      <td>-229.921</td>\n",
       "      <td>13.28080414595882229300</td>\n",
       "    </tr>\n",
       "    <tr>\n",
       "      <th>8</th>\n",
       "      <td>41945011</td>\n",
       "      <td>2019-10-17</td>\n",
       "      <td>SUPPORT</td>\n",
       "      <td>N</td>\n",
       "      <td>VCS6-STD-P-SSS-C</td>\n",
       "      <td>None</td>\n",
       "      <td>VCS6-STD-P-SSS-C</td>\n",
       "      <td>1</td>\n",
       "      <td>1</td>\n",
       "      <td>1</td>\n",
       "      <td>1382.652</td>\n",
       "      <td>1382.652</td>\n",
       "      <td>1545.692</td>\n",
       "      <td>1545.692</td>\n",
       "      <td>1545.692</td>\n",
       "      <td>0.000</td>\n",
       "      <td>-6.948</td>\n",
       "      <td>-156.092</td>\n",
       "      <td>10.09851898049546740200</td>\n",
       "    </tr>\n",
       "    <tr>\n",
       "      <th>9</th>\n",
       "      <td>41892953</td>\n",
       "      <td>2016-04-08</td>\n",
       "      <td>SUPPORT</td>\n",
       "      <td>N</td>\n",
       "      <td>VS6-ENT-G-SSS-A</td>\n",
       "      <td>None</td>\n",
       "      <td>VS6-ENT-G-SSS-A</td>\n",
       "      <td>4</td>\n",
       "      <td>4</td>\n",
       "      <td>4</td>\n",
       "      <td>1326.439</td>\n",
       "      <td>1326.439</td>\n",
       "      <td>412.227</td>\n",
       "      <td>1615.533</td>\n",
       "      <td>1557.078</td>\n",
       "      <td>-58.455</td>\n",
       "      <td>-6.666</td>\n",
       "      <td>-223.973</td>\n",
       "      <td>14.38418627711649641200</td>\n",
       "    </tr>\n",
       "  </tbody>\n",
       "</table>\n",
       "</div>"
      ],
      "text/plain": [
       "  trx_number  order_date  channel bundle_flag  core_component_sku bundle_sku  \\\n",
       "0   35277450  2019-01-14  SUPPORT           N  VS6-EPL-VS-P-SSS-C       None   \n",
       "1  451294848  2017-04-24  SUPPORT           N     VS6-EPL-P-SSS-A       None   \n",
       "2  310416490  2017-09-01  SUPPORT           N     VS6-STD-G-SSS-C       None   \n",
       "3   41570647  2018-09-06  SUPPORT           N    VCS6-FND-P-SSS-C       None   \n",
       "4  325300981  2017-08-21  SUPPORT           N     VS6-STD-P-SSS-C       None   \n",
       "5   41629437  2019-01-15  SUPPORT           N    VCS6-STD-P-SSS-C       None   \n",
       "6  484846892  2019-12-04  SUPPORT           N      VS6-ESSL-SUB-C       None   \n",
       "7   30154424  2019-07-30  SUPPORT           N    VCS6-STD-G-SSS-C       None   \n",
       "8   41945011  2019-10-17  SUPPORT           N    VCS6-STD-P-SSS-C       None   \n",
       "9   41892953  2016-04-08  SUPPORT           N     VS6-ENT-G-SSS-A       None   \n",
       "\n",
       "          product_sku quantity license_count prod_tech_qty detail_total_cc  \\\n",
       "0  VS6-EPL-VS-P-SSS-C       16            16            16        6633.864   \n",
       "1     VS6-EPL-P-SSS-A        2             2             2        1972.443   \n",
       "2     VS6-STD-G-SSS-C       12            12            12        2933.658   \n",
       "3    VCS6-FND-P-SSS-C        1             1             1         672.153   \n",
       "4     VS6-STD-P-SSS-C       14            14            14        3550.204   \n",
       "5    VCS6-STD-P-SSS-C        1             1             1        4619.062   \n",
       "6      VS6-ESSL-SUB-C        8             8             8         103.870   \n",
       "7    VCS6-STD-G-SSS-C        1             1             1        1493.800   \n",
       "8    VCS6-STD-P-SSS-C        1             1             1        1382.652   \n",
       "9     VS6-ENT-G-SSS-A        4             4             4        1326.439   \n",
       "\n",
       "  prod_tech_net_price_cc prod_tech_base_cc prod_tech_extended_base_cc  \\\n",
       "0               6633.864           463.507                   7416.112   \n",
       "1               1972.444           706.893                   1943.348   \n",
       "2               2933.658           273.299                   3279.588   \n",
       "3                672.154             6.237                    707.946   \n",
       "4               3550.204           296.408                   4149.712   \n",
       "5               4619.062          6300.305                   5294.374   \n",
       "6                 103.87           117.308                    938.464   \n",
       "7                 1493.8          1731.228                   1731.228   \n",
       "8               1382.652          1545.692                   1545.692   \n",
       "9               1326.439           412.227                   1615.533   \n",
       "\n",
       "  prod_tech_extended_list_price_cc prod_tech_uplift_cc prod_tech_contra_cc  \\\n",
       "0                         7416.112               0.000             -33.336   \n",
       "1                         2173.558             230.210              -9.912   \n",
       "2                         3279.588               0.000             -14.742   \n",
       "3                          751.420              43.474              -3.378   \n",
       "4                         4149.712               0.000              -17.84   \n",
       "5                         5949.381             655.007             -23.212   \n",
       "6                          938.464               0.000              -0.522   \n",
       "7                         1731.228               0.000              -7.507   \n",
       "8                         1545.692               0.000              -6.948   \n",
       "9                         1557.078             -58.455              -6.666   \n",
       "\n",
       "  prod_tech_discount_cc              discount_pc  \n",
       "0              -748.912  10.09844511517625408000  \n",
       "1              -191.203   8.79677468924224704400  \n",
       "2              -331.188  10.09846358749940541300  \n",
       "3               -75.889  10.09941178036251364100  \n",
       "4              -581.668  14.01706913636416213900  \n",
       "5             -1307.107  21.97047054138909577300  \n",
       "6              -834.072  88.87629147202236846600  \n",
       "7              -229.921  13.28080414595882229300  \n",
       "8              -156.092  10.09851898049546740200  \n",
       "9              -223.973  14.38418627711649641200  "
      ]
     },
     "execution_count": 10,
     "metadata": {},
     "output_type": "execute_result"
    }
   ],
   "source": [
    "discount_prc"
   ]
  },
  {
   "cell_type": "code",
   "execution_count": null,
   "metadata": {},
   "outputs": [],
   "source": [
    "pandas\n",
    "\n",
    "#reading data\n",
    "#writing data\n",
    "#processing\n",
    " a. group by\n",
    " b. filter \n",
    " c. summarize,count\n",
    " d. mutating variable.. creating new columns\n",
    " e. ordering"
   ]
  }
 ],
 "metadata": {
  "kernelspec": {
   "display_name": "Python 3",
   "language": "python",
   "name": "python3"
  },
  "language_info": {
   "codemirror_mode": {
    "name": "ipython",
    "version": 3
   },
   "file_extension": ".py",
   "mimetype": "text/x-python",
   "name": "python",
   "nbconvert_exporter": "python",
   "pygments_lexer": "ipython3",
   "version": "3.7.3"
  }
 },
 "nbformat": 4,
 "nbformat_minor": 4
}
